{
 "cells": [
  {
   "cell_type": "code",
   "execution_count": 41,
   "metadata": {},
   "outputs": [],
   "source": [
    "import matplotlib.pyplot as plt\n",
    "import time\n",
    "import random\n",
    "from numba import jit , uint64"
   ]
  },
  {
   "cell_type": "code",
   "execution_count": 42,
   "metadata": {},
   "outputs": [],
   "source": [
    "@jit(uint64(uint64 , uint64 ) ,nopython=True)\n",
    "def gcd_Binary(a, b):    \n",
    "\tif (a == b):\n",
    "    \t\treturn a\n",
    "\n",
    "\tif (a == 0):\n",
    "\t\treturn b\n",
    "\n",
    "\tif (b == 0):\n",
    "\t\treturn a\n",
    "\n",
    "\t# look for factors of 2 if a is even\n",
    "\tif ((~a & 1) == 1):\n",
    "\n",
    "\t\t# b is odd\n",
    "\t\tif ((b & 1) == 1):\n",
    "\t\t\treturn gcd_Binary(a >> 1, b)\n",
    "\t\telse:\n",
    "\t\t\t# both a and b are even\n",
    "\t\t\treturn (gcd_Binary(a >> 1, b >> 1) << 1)\n",
    "\n",
    "\t# a is odd, b is even\n",
    "\tif ((~b & 1) == 1):\n",
    "\t\treturn gcd_Binary(a, b >> 1)\n",
    "\n",
    "\t# reduce larger number\n",
    "\tif (a > b):\n",
    "\t\treturn gcd_Binary((a - b) >> 1, b)\n",
    "\t\t\n",
    "\treturn gcd_Binary((b - a) >> 1, a)\n",
    "\t\n",
    "@jit(uint64(uint64 , uint64 ) ,nopython=True)\n",
    "def gcd_Euclid(a, b): \n",
    "    if a == 0 :\n",
    "        return b \n",
    "    return gcd_Euclid(b%a, a)"
   ]
  },
  {
   "cell_type": "code",
   "execution_count": 43,
   "metadata": {},
   "outputs": [],
   "source": [
    "Digits = []\n",
    "for i in range(1,20):\n",
    "    Digits.append(i+1)"
   ]
  },
  {
   "cell_type": "code",
   "execution_count": 38,
   "metadata": {},
   "outputs": [
    {
     "name": "stdout",
     "output_type": "stream",
     "text": [
      "[6, 8, 6, 5, 6, 6, 6, 6, 8, 7, 6, 8, 7, 6, 7, 7, 7, 7, 5]\n"
     ]
    }
   ],
   "source": [
    "Euclid_Time = []\n",
    "\n",
    "for i in range(1,19): \n",
    "\tstart = time.time_ns()\t\n",
    "\tfor j in range(0,10000): \n",
    "\t\trand1 = random.randint(10 ** i,(10 ** (i+1))-1)\n",
    "\t\trand2 = random.randint(10 ** i,(10 ** (i+1))-1)\n",
    "\t\tgcd_Euclid(rand1, rand2 )\n",
    "\tEuclid_Time.append((time.time_ns() - start)// (10000* 1000) )\t\n",
    "\n",
    "# for the case that  20 digits\n",
    "start = time.time_ns()\t\n",
    "for j in range(0,10000): \n",
    "\trand1 = random.randint(10 ** 19, ( 2 << 63 )-1 ) \n",
    "\trand2 = random.randint(10 ** 19, ( 2 << 63 )-1 ) \n",
    "\tgcd_Euclid(rand1, rand2 )\n",
    "Euclid_Time.append((time.time_ns() - start)// (10000* 1000))\n",
    "\n",
    "print(Euclid_Time)"
   ]
  },
  {
   "cell_type": "code",
   "execution_count": 39,
   "metadata": {},
   "outputs": [
    {
     "name": "stdout",
     "output_type": "stream",
     "text": [
      "[9, 7, 9, 9, 10, 12, 12, 12, 13, 13, 15, 9, 8, 9, 6, 9, 7, 6, 6]\n"
     ]
    }
   ],
   "source": [
    "Binary_Time = []\n",
    "\n",
    "for i in range(1,19): \n",
    "\tstart = time.time_ns()\t\n",
    "\tfor j in range(0,10000): \n",
    "\t\trand1 = random.randint(10 ** i,(10 ** (i+1))-1)\n",
    "\t\trand2 = random.randint(10 ** i,(10 ** (i+1))-1)\n",
    "\t\tgcd_Binary(rand1, rand2 )\n",
    "\tBinary_Time.append((time.time_ns() - start)// (10000* 1000))\n",
    "\t\n",
    "# for the case that  20 digits\n",
    "start = time.time_ns()\t\n",
    "for j in range(0,10000): \n",
    "\trand1 = random.randint(10 ** 19, ( 2 << 63 )-1 ) \n",
    "\trand2 = random.randint(10 ** 19, ( 2 << 63 )-1 ) \n",
    "\tgcd_Binary(rand1, rand2 )\n",
    "Binary_Time.append((time.time_ns() - start)// (10000* 1000))\n",
    "\n",
    "print(Binary_Time)"
   ]
  },
  {
   "cell_type": "code",
   "execution_count": 40,
   "metadata": {},
   "outputs": [
    {
     "data": {
      "image/png": "[encoded data removed]",
      "text/plain": [
       "<Figure size 432x288 with 1 Axes>"
      ]
     },
     "metadata": {
      "needs_background": "light"
     },
     "output_type": "display_data"
    }
   ],
   "source": [
    "plt.plot(Digits, Euclid_Time , color='b', label='Euclid GCD')\n",
    "plt.plot(Digits, Binary_Time , color='r', label='Binary GCD')\n",
    "\n",
    "plt.xlabel(\"Number of Decimal Digits\")\n",
    "plt.ylabel(\"Runtime (us)\")\n",
    "plt.title(\"Euclid GCD vs Binary GCD\")\n",
    "plt.legend()\n",
    "plt.show()"
   ]
  }
 ],
 "metadata": {
  "interpreter": {
   "hash": "02bc14828adcf502d84d720d55a7cdea51284eaab4deceee0b93491413b126c4"
  },
  "kernelspec": {
   "display_name": "Python 3.8.8 64-bit ('base': conda)",
   "name": "python3"
  },
  "language_info": {
   "codemirror_mode": {
    "name": "ipython",
    "version": 3
   },
   "file_extension": ".py",
   "mimetype": "text/x-python",
   "name": "python",
   "nbconvert_exporter": "python",
   "pygments_lexer": "ipython3",
   "version": "3.8.8"
  },
  "orig_nbformat": 4
 },
 "nbformat": 4,
 "nbformat_minor": 2
}
